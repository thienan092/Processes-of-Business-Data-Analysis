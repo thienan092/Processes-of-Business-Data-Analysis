{
 "cells": [
  {
   "cell_type": "markdown",
   "metadata": {},
   "source": [
    "## Beginning of a Data Story ..."
   ]
  },
  {
   "cell_type": "markdown",
   "metadata": {},
   "source": [
    "One day, you decided to test your luck by stepping into a venture that was entirely unfamiliar to you. Of course, you didn't venture into it empty-handed, but with a monthly sum of money \\$<b>A</b> that you earned from your current business. After allocating a small portion of it to hire a data scientist to optimize your investments ..."
   ]
  },
  {
   "cell_type": "markdown",
   "metadata": {},
   "source": [
    "## Mathematical Interpretation"
   ]
  },
  {
   "cell_type": "markdown",
   "metadata": {},
   "source": [
    "This is an extreme case when you don't have any clues about the bound of risks that you may encounter in the venture. What this story brings to you is the reason behind the significant level ($\\alpha$) and power ($\\beta$) at the mathematical detail. Precisely, $(\\alpha, \\beta)$ is the solution of this mathematical programing problem: \n",
    "\n",
    "$\\textrm{minimize}_{(N, \\mu_\\alpha, \\tau)} \\quad \\tau$\n",
    "\n",
    "$\\textrm{subject to} \\quad N C_0 - \\kappa C_1 \\Phi_{N-1} (\\kappa-\\frac{\\mu_\\alpha \\sqrt{N}}{\\sigma}) \\le A$\n",
    "\n",
    "$\\quad N C_0 - \\tau' C_1 \\Phi_{N-1} (\\tau'-\\frac{\\mu_\\alpha \\sqrt{N}}{\\sigma}) \\le -B$\n",
    "\n",
    "$\\quad \\kappa \\lt 0$\n",
    "\n",
    "$\\quad \\gamma \\le 0$\n",
    "\n",
    "$\\quad \\tau' = \\tau - \\gamma$\n",
    "\n",
    "\n",
    "Where $A, B$ is non-negative real numbers. "
   ]
  },
  {
   "cell_type": "code",
   "execution_count": 93,
   "metadata": {},
   "outputs": [
    {
     "data": {
      "text/plain": [
       "-0.00034132391361294093"
      ]
     },
     "execution_count": 93,
     "metadata": {},
     "output_type": "execute_result"
    }
   ],
   "source": [
    "import numpy as np\n",
    "import scipy.stats as sts\n",
    "\n",
    "def newton_solve_max(f, df, x0, tol, upperbound):\n",
    "    while True:\n",
    "        f_crt = f(x0)\n",
    "        alpha = 1.\n",
    "        rate = f_crt/df(x0)\n",
    "        if (x0 - rate)>=upperbound:\n",
    "            alpha = (x0-upperbound)/rate*.5\n",
    "        x0 = x0 - rate*alpha\n",
    "        if abs(f_crt)<tol:\n",
    "            break\n",
    "            \n",
    "    return x0\n",
    "\n",
    "def solve_max(N, sigma, C0, C1, B): # N*C0-B < 0\n",
    "    k_max = newton_solve_max(lambda x: (1+1/sts.t.pdf(sts.t.ppf((N*C0-B)/x/C1, N-1),N-1)*((N*C0-B)/x**2/C1)), \n",
    "                         lambda x: 1e7*((1+1/sts.t.pdf(sts.t.ppf((N*C0-B)/x/C1, N-1),N-1)*((N*C0-B)/x**2/C1))-(1+1/sts.t.pdf(sts.t.ppf((N*C0-B)/(x-1e-7)/C1, N-1),N-1)*((N*C0-B)/(x-1e-7)**2/C1))),\n",
    "                         (N*C0-B)/C1-1e-3, 1e-5, (N*C0-B)/C1)\n",
    "    \n",
    "    mu_max = sigma/np.sqrt(N)*(k_max-sts.t.ppf((N*C0-B)/k_max/C1, N-1))\n",
    "    return mu_max\n",
    "    \n",
    "N = 3000\n",
    "sigma = 1e-2\n",
    "C0 = .5\n",
    "C1 = 50000.\n",
    "B0 = 50000.\n",
    "B1 = 80000.\n",
    "\n",
    "mu_max = solve_max(N, sigma, C0, C1, B0)\n",
    "\n",
    "mu_max\n",
    "# sts.t.sf(mu_max*np.sqrt(N)/sigma,N-1) # mu_max/sigma*np.sqrt(N) # "
   ]
  },
  {
   "cell_type": "markdown",
   "metadata": {},
   "source": [
    "# Strategies"
   ]
  },
  {
   "cell_type": "markdown",
   "metadata": {},
   "source": [
    "## Don't Do Meaningless Things\n",
    "\n",
    "_However, you will see this strategy is not always true. Surprised? :)_"
   ]
  },
  {
   "cell_type": "markdown",
   "metadata": {},
   "source": [
    "So, what is do meaningless things? You may guess about spending efforts in nothing? That's right! Statistically, it is when your null hypothesis is **H0**: $\\mu = 0$ and you want to optimize the probability of Type I error (do something when it actually will return nothing). The solution of the above optimization problem will play the role as a rule of thumb. Thus, the threshold for designing the test will be greater than or equal `mu_max`. In this case, as the threshold larger, the Type I error is smaller. So, if you're a very hard fan of \"don't do meaningless things\" but you don't have any clues about what is meaningfull things, just \"do nothing\"! Still want to do something? It leads us to the second strategy ... "
   ]
  },
  {
   "cell_type": "markdown",
   "metadata": {},
   "source": [
    "## Be Open for Opportunities. "
   ]
  },
  {
   "cell_type": "markdown",
   "metadata": {},
   "source": [
    "This brings you back to the beginning optimization problem. You want to as open as possible for opportunities that you can get back at least a worthy amount \\$<b>B</b> from your investment. Thus, you must optimize the half-bounded interval $[\\tau,\\infty)$ represents for a range of worthy opportunities. \n",
    "\n",
    "$\\textrm{minimize}_{\\mu_\\alpha} \\quad \\mu_\\alpha$\n",
    "\n",
    "$\\textrm{subject to} \\quad N C_0 - \\kappa C_1 \\Phi_{N-1} (\\kappa-\\frac{\\mu_\\alpha \\sqrt{N}}{\\sigma}) \\le A$\n",
    "\n",
    "$\\quad N C_0 - \\tau' C_1 \\Phi_{N-1} (\\tau'-\\frac{\\mu_\\alpha \\sqrt{N}}{\\sigma}) \\le -B$\n",
    "\n",
    "$\\quad \\kappa \\lt 0$\n",
    "\n",
    "$\\quad \\gamma \\le 0$\n",
    "\n",
    "$\\quad \\tau' = \\tau - \\gamma$"
   ]
  },
  {
   "cell_type": "code",
   "execution_count": 94,
   "metadata": {},
   "outputs": [
    {
     "data": {
      "text/plain": [
       "1.630471545938515"
      ]
     },
     "execution_count": 94,
     "metadata": {},
     "output_type": "execute_result"
    }
   ],
   "source": [
    "def newton_solve_min(f, df, x0, tol, lower_bound):\n",
    "    while True:\n",
    "        f_crt = f(x0)\n",
    "        alpha = 1.\n",
    "        rate = f_crt/df(x0)\n",
    "        if (x0 - rate)<=lower_bound:\n",
    "            alpha = (x0-lower_bound)/rate*.5\n",
    "        x0 = x0 - rate*alpha\n",
    "        if abs(f_crt)<tol: # and f_crt>0. and f(x0-tol)<0.:\n",
    "            break\n",
    "            \n",
    "    return x0\n",
    "\n",
    "def solve_min(N, sigma, C0, C1, B):\n",
    "    k_min = newton_solve_min(lambda x: sigma/np.sqrt(N)*(x-sts.t.ppf((N*C0-B)/x/C1, N-1))-mu_max, \n",
    "                         lambda x: (1.+1./sts.t.pdf(sts.t.ppf((N*C0-B)/x/C1, N-1),N-1)*((N*C0-B)/x**2/C1)),\n",
    "                         (N*C0-B)/C1+1e-3, 1e-5, (N*C0-B)/C1)\n",
    "    \n",
    "    return k_min\n",
    "\n",
    "k_min = solve_min(N, sigma, C0, C1, -B1)\n",
    "\n",
    "k_min"
   ]
  },
  {
   "cell_type": "code",
   "execution_count": null,
   "metadata": {},
   "outputs": [],
   "source": []
  }
 ],
 "metadata": {
  "kernelspec": {
   "display_name": "Python 3",
   "language": "python",
   "name": "python3"
  },
  "language_info": {
   "codemirror_mode": {
    "name": "ipython",
    "version": 3
   },
   "file_extension": ".py",
   "mimetype": "text/x-python",
   "name": "python",
   "nbconvert_exporter": "python",
   "pygments_lexer": "ipython3",
   "version": "3.6.7"
  }
 },
 "nbformat": 4,
 "nbformat_minor": 4
}
